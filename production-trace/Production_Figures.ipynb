{
 "cells": [
  {
   "cell_type": "code",
   "execution_count": null,
   "metadata": {},
   "outputs": [],
   "source": [
    "import re\n",
    "import pandas as pd\n",
    "import seaborn as sns\n",
    "import matplotlib.pyplot as plt"
   ]
  },
  {
   "cell_type": "code",
   "execution_count": null,
   "metadata": {},
   "outputs": [],
   "source": [
    "import pandas as pd\n",
    "import seaborn as sns\n",
    "import matplotlib.pyplot as plt\n",
    "\n",
    "# Initialize lists to store latency values for each experiment and strategy\n",
    "prefix = \"result_d010-f\"\n",
    "experiment_labels = [\"100\"]\n",
    "strategy_labels = ['cold', 'fixed', 'request']\n",
    "experiment_data = [{} for _ in range(3)]\n",
    "\n",
    "# Read and process data from each file\n",
    "for index, experiment in enumerate(experiment_labels):\n",
    "    for strategy in strategy_labels:\n",
    "        file_name = f'{prefix}{experiment}.csv-{strategy}.log'\n",
    "        try:\n",
    "            with open(file_name, 'r') as file:\n",
    "                log_data = file.read()\n",
    "        except UnicodeDecodeError:\n",
    "            pass\n",
    "        # Extract latency numbers\n",
    "        latency_pattern = r'Latency: (\\d+\\.\\d+) ms'\n",
    "        latency_values = re.findall(latency_pattern, log_data)\n",
    "        latency_values = [float(value) for value in latency_values]\n",
    "\n",
    "        # Append latency values to the respective experiment's data\n",
    "        experiment_data[index][strategy] = latency_values\n",
    "\n",
    "# Create a plot with three subplots\n",
    "fig, axs = plt.subplots(1, 3, figsize=(12, 4))\n",
    "\n",
    "# Plot ECDFs for each strategy\n",
    "for index, experiment in enumerate(experiment_data):\n",
    "    plt.sca(axs[index])  # Set the current subplot\n",
    "    for strategy in strategy_labels:\n",
    "        sns.ecdfplot(data=experiment[strategy], label=strategy)\n",
    "\n",
    "    # Set labels and title for the subplot\n",
    "    plt.xlabel('Latency (ms)')\n",
    "    plt.xscale(\"log\")\n",
    "    plt.ylabel('Cumulative Probability')\n",
    "    plt.title(f'Experiment {experiment_labels[index]} Latency ECDF')\n",
    "    plt.legend()\n",
    "\n",
    "# Adjust spacing between subplots\n",
    "plt.tight_layout()\n",
    "\n",
    "# Show the plot\n",
    "plt.show()"
   ]
  }
 ],
 "metadata": {
  "language_info": {
   "name": "python"
  },
  "orig_nbformat": 4
 },
 "nbformat": 4,
 "nbformat_minor": 2
}
